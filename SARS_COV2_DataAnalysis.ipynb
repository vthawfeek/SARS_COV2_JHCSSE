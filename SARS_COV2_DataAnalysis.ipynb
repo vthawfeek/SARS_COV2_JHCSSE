{
 "cells": [
  {
   "cell_type": "markdown",
   "metadata": {},
   "source": [
    "### Notes\n",
    "#### Useful links\n",
    "- blog about data sources: https://towardsdatascience.com/a-short-review-of-covid-19-data-sources-ba7f7aa1c342\n",
    "- GitHub repo of John Hopkinns CSSE: https://github.com/CSSEGISandData/COVID-19\n",
    "#### Learning pandas\n",
    "- useful link to learn pandas: https://www.learndatasci.com/tutorials/python-pandas-tutorial-complete-introduction-for-beginners/\n",
    "- pandas is derived from the term \"panel data\", an econometrics term for data sets that include observations over multiple time periods for the same individuals\n",
    "- pandas is built on top of the NumPy package, meaning a lot of the structure of NumPy is used or replicated in Pandas. Data in pandas is often used to feed statistical analysis in SciPy, plotting functions from Matplotlib, and machine learning algorithms in Scikit-learn\n",
    "- a Series is essentially a column, and a DataFrame is a multi-dimensional table made up of a collection of Series\n",
    "- two primary components of pandas are: series and dataframes\n",
    "- handling missing data values: most commonly you'll see Python's 'None' or NumPy's 'np.nan', each of which are handled differently in some situations\n",
    "- two options to deal with missing data values:get rid of them or replace them (called imputation)"
   ]
  },
  {
   "cell_type": "markdown",
   "metadata": {},
   "source": [
    "### Imported modules"
   ]
  },
  {
   "cell_type": "code",
   "execution_count": 1,
   "metadata": {},
   "outputs": [],
   "source": [
    "import pandas as pd\n",
    "import numpy as np\n",
    "import datetime as dt\n",
    "import matplotlib.pyplot as plt\n",
    "from scipy.integrate import odeint"
   ]
  },
  {
   "cell_type": "markdown",
   "metadata": {},
   "source": [
    "### Reading COVID19 infection spread data from JHCSSE"
   ]
  },
  {
   "cell_type": "code",
   "execution_count": 2,
   "metadata": {},
   "outputs": [
    {
     "name": "stdout",
     "output_type": "stream",
     "text": [
      "<class 'pandas.core.frame.DataFrame'>\n",
      "Index: 108 entries, Province/State to 5/5/20\n",
      "Columns: 266 entries, Afghanistan to Tajikistan\n",
      "dtypes: object(266)\n",
      "memory usage: 225.3+ KB\n"
     ]
    },
    {
     "data": {
      "text/plain": [
       "1"
      ]
     },
     "execution_count": 2,
     "metadata": {},
     "output_type": "execute_result"
    }
   ],
   "source": [
    "#reading data from GitHub\n",
    "jhCsseURL='https://raw.githubusercontent.com/CSSEGISandData/COVID-19/master/csse_covid_19_data/csse_covid_19_time_series/time_series_covid19_deaths_global.csv'\n",
    "frm=pd.read_csv(jhCsseURL,index_col=1)\n",
    "frm=frm.transpose() #switching to have countries in columns\n",
    "\n",
    "#dataset information\n",
    "frm.shape\n",
    "frm.head()\n",
    "frm.tail()\n",
    "frm.info()\n",
    "\n",
    "'''\n",
    "#data cleaning\n",
    "##remove duplicates\n",
    "frm.shape\n",
    "tempfrm=frm\n",
    "tempfrm.drop_duplicates(inplace=True) # OR tempfrm=tempfrm.drop_duplicates()\n",
    "#tempfrm.drop_duplicates(inplace=True,keep='first') #remove all duplicates except first (DEFAULT)\n",
    "#tempfrm.drop_duplicates(inplace=True,keep='last') #remove all duplicates except last\n",
    "#tempfrm.drop_duplicates(inplace=True,keep=False) #remove all duplicates\n",
    "tempfrm.shape\n",
    "##cleaning columns\n",
    "frm.columns\n",
    "frm.rename(columns={'Province/State':'Area'},inplace=True) #renaming to simpler names\n",
    "frm.columns\n",
    "frm.columns=[col.lower() for col in frm.columns] #lowercase for all colnames\n",
    "frm.columns\n",
    "##dealing missing data values\n",
    "frm.isnull() #return true/false for each cell\n",
    "frm.isnull().sum() #counts the total number of true\n",
    "#frm.dropna(inplace=True)#will delete any row with at least a single null value (only use if very few na)\n",
    "#frm.dropna(axis=1,inplace=True)#will delete any column with at least a single null value (only use if very few na)\n",
    "area=frm['area']\n",
    "area.head()\n",
    "area.fillna('Unknown',inplace=True) #imputing null values with 'missing'\n",
    "frm.isnull().sum()\n",
    "frm.head()\n",
    "'''\n",
    "\n",
    "#data statistics\n",
    "#distibution\n",
    "#frm.describe()\n",
    "#frm['India'].describe() #can be performed on categorical data also\n",
    "#frm['India'].value_counts() #gives frequency of all the categories\n",
    "#correlation\n",
    "#frm.corr() #generates correlation matrix\n",
    "\n",
    "frm.head()\n",
    "frm['India']\n",
    "frm['China']\n",
    "frm['Italy']\n",
    "series_Italy=frm['Italy']\n",
    "series_Italy.shape\n",
    "#np.asarray(series_Italy)[40]\n",
    "series_Italy.keys()[32]\n",
    "series_Italy[series_Italy.keys()[33]]"
   ]
  },
  {
   "cell_type": "markdown",
   "metadata": {},
   "source": [
    "### Data visualization"
   ]
  },
  {
   "cell_type": "code",
   "execution_count": 13,
   "metadata": {},
   "outputs": [
    {
     "data": {
      "image/png": "[encoded data removed]",
      "text/plain": [
       "<Figure size 432x288 with 1 Axes>"
      ]
     },
     "metadata": {
      "needs_background": "light"
     },
     "output_type": "display_data"
    }
   ],
   "source": [
    "##set country\n",
    "def spreadPlotter(Data_Series,Start_Point,Plot_Colour):\n",
    "#    Data_Series=frm[Country_Name]\n",
    "    Time_Points=[]\n",
    "    Infected_Cases=[]\n",
    "    for i in Data_Series.keys()[Start_Point:]:\n",
    "        [m,d,y]=i.split('/')\n",
    "        y=2000+int(y)\n",
    "        m=int(m)\n",
    "        d=int(d)\n",
    "        #print(y,m,d)\n",
    "        Day_Count=dt.datetime(y,m,d).strftime('%j')\n",
    "        Day_Count=int(Day_Count)\n",
    "        Time_Points.append(Day_Count)\n",
    "        Infected_Cases.append(Data_Series[i])\n",
    "    Time_Points=[i-Time_Points[0] for i in Time_Points]\n",
    "    x_Ticks=list(Data_Series.keys()[Start_Point:])\n",
    "    Display_Points=np.arange(min(Time_Points),max(Time_Points)+1,10)\n",
    "    Display_Ticks=[x_Ticks[i] for i in Display_Points]\n",
    "    plt.plot(Time_Points,Infected_Cases,Plot_Colour)\n",
    "    plt.xlabel('Time')\n",
    "    plt.ylabel('#Dead')\n",
    "    plt.title('Trend Plot')\n",
    "    plt.xticks(Display_Points,Display_Ticks,rotation=45)\n",
    "    return Time_Points,Infected_Cases\n",
    "\n",
    "#Country_Name='Italy'\n",
    "#x_Data,y_Data=spreadPlotter(frm[Country_Name],33,'r')\n",
    "\n",
    "Country_Name='United Kingdom'\n",
    "Province='nan'\n",
    "SubData=frm[Country_Name]\n",
    "NewLabel=list(np.asanyarray(SubData.iloc[0:1]))[0]\n",
    "NewLabel=[str(i) for i in NewLabel]\n",
    "NewIndex=list(SubData.index)[3:]\n",
    "NewData=np.asanyarray(SubData.iloc[3:])\n",
    "SubDataFrame=pd.DataFrame(NewData,index=NewIndex,columns=NewLabel)\n",
    "x_Data,y_Data=spreadPlotter(SubDataFrame[Province],3,'r')\n",
    "\n",
    "Country_Name='China'\n",
    "Province='Hubei'\n",
    "SubData=frm[Country_Name]\n",
    "NewLabel=list(np.asanyarray(SubData.iloc[0:1]))[0]\n",
    "NewLabel=[str(i) for i in NewLabel]\n",
    "NewIndex=list(SubData.index)[3:]\n",
    "NewData=np.asanyarray(SubData.iloc[3:])\n",
    "SubDataFrame=pd.DataFrame(NewData,index=NewIndex,columns=NewLabel)\n",
    "x_Data,y_Data=spreadPlotter(SubDataFrame[Province],3,'m')\n",
    "\n",
    "Country_Name='Italy'\n",
    "x_Data,y_Data=spreadPlotter(frm[Country_Name],3,'b')\n",
    "\n",
    "Country_Name='US'\n",
    "x_Data,y_Data=spreadPlotter(frm[Country_Name],3,'k')\n",
    "\n",
    "Country_Name='India'\n",
    "x_Data,y_Data=spreadPlotter(frm[Country_Name],3,'g')\n",
    "\n",
    "Country_Name='Iran'\n",
    "x_Data,y_Data=spreadPlotter(frm[Country_Name],3,'y')\n",
    "\n",
    "#print(len(x_Data),len(y_Data))\n",
    "\n"
   ]
  },
  {
   "cell_type": "code",
   "execution_count": null,
   "metadata": {},
   "outputs": [],
   "source": []
  },
  {
   "cell_type": "markdown",
   "metadata": {},
   "source": [
    "### SIRDH model"
   ]
  },
  {
   "cell_type": "markdown",
   "metadata": {},
   "source": [
    "#### Parameters"
   ]
  },
  {
   "cell_type": "code",
   "execution_count": null,
   "metadata": {},
   "outputs": [],
   "source": [
    "#parameter definitions\n",
    "\n",
    "##k[0]->mixing rate of population\n",
    "##k[1]->infectious period\n",
    "##k[2]->re-infection period\n",
    "##k[3]->death period\n",
    "##k[4]->mixing rate of H\n",
    "##k[5]->infectious period with treatment\n",
    "##k[6]->PPE treatment\n",
    "\n",
    "###Case1: Italy (www.worldometers.info, international.commonwealthfund.org, www.icn.ch, www.ecdc.europa.eu, https://patient.info/news-and-features/coronavirus-how-quickly-do-covid-19-symptoms-develop-and-how-long-do-they-last)\n",
    "#data from February 20th till April 25th\n",
    "numDays=65\n",
    "Popul=60477673\n",
    "numInf=192990\n",
    "numDead=25969\n",
    "numRec=60498\n",
    "numSus=Popul-numInf\n",
    "HCfract=0.01 #10 healthcare workers per 1000 population \n",
    "numHC=HCfract*Popul\n",
    "HinfRate=0.09 #9% of infected cases are healthcare workers\n",
    "numHinf=HinfRate*numInf\n",
    "ReqPPE=45/10 #number of PPE required per H per I per day\n",
    "\n",
    "#parameters\n",
    "k=np.zeros(7)\n",
    "k[0]=0.275 #27.5% of population are mixing\n",
    "k[1]=1/14 #time from infection to natural recovery\n",
    "k[2]=1/30 #re-infection rate is very rare\n",
    "k[3]=1/21\n",
    "k[4]=1 #healthcare workers are in contact with patients 100%\n",
    "k[5]=1/10\n",
    "k[6]= 0.7 #assume 70% of required PPE is available \n",
    "N=Popul*0.20 #assuming 20% of population are vulnerable\n",
    "\n",
    "#Initial conditions\n",
    "ic=np.zeros(4)\n",
    "ic[0]= 1 #infected\n",
    "ic[1]= 0 #recovered\n",
    "ic[2]= 0 #dead\n",
    "ic[3]= numHC*0.70 #assuming 70% of healthcare workers are available for SARS-CoV2\n",
    "\n",
    "print('Parameters: ',k)"
   ]
  },
  {
   "cell_type": "markdown",
   "metadata": {},
   "source": [
    "#### Model definition"
   ]
  },
  {
   "cell_type": "code",
   "execution_count": null,
   "metadata": {},
   "outputs": [],
   "source": [
    "#model definition\n",
    "def modSEIR(y,t,N,k):\n",
    "    #assignments\n",
    "    S=N-sum(y[0:3])\n",
    "    dy=[0]*4\n",
    "\n",
    "    #reaction rates\n",
    "    v0=k[0]*(S/N)*(y[0]/N)\n",
    "    v1=k[1]*(y[0]/N)\n",
    "    v2=k[2]*(y[1]/N)\n",
    "    v3=k[3]*(y[0]/N)\n",
    "    v4=(k[4]-k[6])*(y[3]/N)*(y[0]/N)\n",
    "#    v4=(k[4]/k[6])*(y[3]/N)*(y[0]/N)\n",
    "#    v5=(k[5]*k[6])*(y[3]/N)\n",
    "    v5=(k[5])*(y[3]/N)*(y[0]/N)\n",
    "\n",
    "    #ODEs\n",
    "    dy[0]=N*(v0+v4-v1-v3) #I\n",
    "    dy[1]=N*(v1+v5-v2) #R\n",
    "    dy[2]=N*(v3) #D\n",
    "    dy[3]=N*(-v4) #H\n",
    "\n",
    "    return dy\n",
    "\n",
    "##timeline\n",
    "tmax=1*365 #days\n",
    "tvec=np.arange(0,tmax,0.1)\n",
    "\n",
    "##test\n",
    "#k[0]=k[0]*10\n",
    "\n",
    "##solving equations\n",
    "soln=odeint(modSEIR,ic,tvec,args=(N,k))\n",
    "##plotting solution\n",
    "plt.figure(figsize=(13,5))\n",
    "plt.subplot(1,3,1)\n",
    "plt.plot(tvec,soln)\n",
    "varTC=[i[0] for i in soln]\n",
    "#plt.plot(tvec,varTC)\n",
    "legend_labels = (\"Infected\",\"Recovered\",\"Dead\",\"Healthcare\")\n",
    "plt.xlabel(\"Time (days)\")\n",
    "plt.title(\"Italy COVID19 Profile\")\n",
    "plt.ylabel(\"Number of Cases\")\n",
    "plt.legend(legend_labels)\n",
    "#plt.ylim([0,1000000])\n",
    "print(\"# of infected difference (actual-model): \"+str(int(numInf-[i[0] for i in soln][-1])))\n",
    "print(\"# of recovered difference (actual-model): \"+str(int(numRec-[i[1] for i in soln][-1])))\n",
    "print(\"# of dead difference (actual-model): \"+str(int(numDead-[i[2] for i in soln][-1])))"
   ]
  },
  {
   "cell_type": "markdown",
   "metadata": {},
   "source": [
    "#### Parameter estimation"
   ]
  },
  {
   "cell_type": "code",
   "execution_count": null,
   "metadata": {},
   "outputs": [],
   "source": [
    "#parameters\n",
    "Popul=60477673\n",
    "numHC=HCfract*Popul\n",
    "\n",
    "k=np.zeros(7)\n",
    "k[0]=0.257 #30% of population are mixing\n",
    "k[1]=1/14 #time from infection to natural recovery\n",
    "k[2]=1/30 #re-infection rate is very rare\n",
    "k[3]=1/21\n",
    "k[4]=1 #healthcare workers are in contact with patients 100%\n",
    "k[5]=1/10\n",
    "k[6]= 0.7 #assume 70% of required PPE is available \n",
    "N=Popul*0.20 #assuming 20% of population are vulnerable\n",
    "\n",
    "#Initial conditions\n",
    "ic=np.zeros(4)\n",
    "ic[0]= 1 #infected\n",
    "ic[1]= 0 #recovered\n",
    "ic[2]= 0 #dead\n",
    "ic[3]= numHC*0.70 #assuming 70% of healthcare workers are available for SARS-CoV2\n"
   ]
  },
  {
   "cell_type": "code",
   "execution_count": null,
   "metadata": {},
   "outputs": [],
   "source": [
    "import pylab as pp\n",
    "import numpy as np\n",
    "import random\n",
    "from scipy import integrate, optimize\n",
    "\n",
    "class Fit_Parameters():\n",
    "    def __init__(self):\n",
    "        self.X = np.array(x_Data) #measured time points\n",
    "        self.y = np.array(y_Data) #measured infected cases\n",
    "        self.y0 = ic # inital conditions ODEs\n",
    "    def ode(self, y, X, k):\n",
    "        S=N-sum(y[0:3])\n",
    "        dy=[0]*4\n",
    "        v0=k[0]*(S/N)*(y[0]/N)\n",
    "        v1=k[1]*(y[0]/N)\n",
    "        v2=k[2]*(y[1]/N)\n",
    "        v3=k[3]*(y[0]/N)\n",
    "        v4=(k[4]-k[6])*(y[3]/N)*(y[0]/N)\n",
    "        v5=(k[5])*(y[3]/N)*(y[0]/N)\n",
    "        dy[0]=N*(v0+v4-v1-v3) #I\n",
    "        dy[1]=N*(v1+v5-v2) #R\n",
    "        dy[2]=N*(v3) #D\n",
    "        dy[3]=N*(-v4) #H\n",
    "        return dy\n",
    "    def model(self, X, k):\n",
    "        return integrate.odeint(self.ode, self.y0, X, args=(k,))\n",
    "    def f_resid(self, k):\n",
    "        #print(len(self.y),self.model(self.X, k)[:,0][0])\n",
    "        return self.y - self.model(self.X, k)[:,0]\n",
    "    def optim(self, k_quess):\n",
    "        return optimize.leastsq(self.f_resid, k_guess) # fit params\n",
    "\n",
    "k_Set=[]    \n",
    "fig=plt.figure()\n",
    "fig.subplots_adjust(hspace=0.7, wspace=0.7)\n",
    "for i in range(0,6):\n",
    "    #random k\n",
    "    k=[random.random() for j in k]\n",
    "    po=Fit_Parameters(); k_guess=k\n",
    "    Est_k=po.optim(k_guess)\n",
    "    k_Set.append(Est_k)\n",
    "    #show\n",
    "    #print(\"parameter values are \", Est_k)\n",
    "    ax=fig.add_subplot(2,3,i+1)\n",
    "    x = np.linspace(min(po.X), max(po.X)+10, 2000)\n",
    "    ax.plot(po.X, po.y,'.r',x, po.model(x, Est_k[0])[:,0],'-b')\n",
    "    ax.set_xlabel('X',{\"fontsize\":10}); ax.set_ylabel(\"Y\",{\"fontsize\":10}); pp.legend(('data','fit'),loc=0);ax.set_title(i)\n"
   ]
  },
  {
   "cell_type": "code",
   "execution_count": null,
   "metadata": {},
   "outputs": [],
   "source": [
    "k=k_Set[1][0]\n",
    "k"
   ]
  },
  {
   "cell_type": "code",
   "execution_count": null,
   "metadata": {},
   "outputs": [],
   "source": [
    "# cleaned up a bit to get my head around it - thanks for sharing \n",
    "import pylab as pp\n",
    "import numpy as np\n",
    "from scipy import integrate, optimize\n",
    "\n",
    "class Parameterize_ODE():\n",
    "    def __init__(self):\n",
    "        self.X = np.linspace(0,9,10)\n",
    "        self.y = np.array([0.000,0.416,0.489,0.595,0.506,0.493,0.458,0.394,0.335,0.309])\n",
    "        self.y0 = [1,0,0] # inital conditions ODEs\n",
    "    def ode(self, y, X, p):\n",
    "        return (-p[0]*y[0],\n",
    "                 p[0]*y[0]-p[1]*y[1],\n",
    "                           p[1]*y[1])\n",
    "    def model(self, X, p):\n",
    "        return integrate.odeint(self.ode, self.y0, X, args=(p,))\n",
    "    def f_resid(self, p):\n",
    "        return self.y - self.model(self.X, p)[:,1]\n",
    "    def optim(self, p_quess):\n",
    "        return optimize.leastsq(self.f_resid, p_guess) # fit params\n",
    "\n",
    "po = Parameterize_ODE(); p_guess = [0.2, 0.3] \n",
    "c, kvg = po.optim(p_guess)\n",
    "\n",
    "# --- show ---\n",
    "print(\"parameter values are \", c, kvg)\n",
    "x = np.linspace(min(po.X), max(po.X), 2000)\n",
    "pp.plot(po.X, po.y,'.r',x, po.model(x, c)[:,1],'-b')\n",
    "pp.xlabel('X',{\"fontsize\":16}); pp.ylabel(\"y\",{\"fontsize\":16}); pp.legend(('data','fit'),loc=0); pp.show()"
   ]
  }
 ],
 "metadata": {
  "kernelspec": {
   "display_name": "Python 3",
   "language": "python",
   "name": "python3"
  },
  "language_info": {
   "codemirror_mode": {
    "name": "ipython",
    "version": 3
   },
   "file_extension": ".py",
   "mimetype": "text/x-python",
   "name": "python",
   "nbconvert_exporter": "python",
   "pygments_lexer": "ipython3",
   "version": "3.6.10"
  }
 },
 "nbformat": 4,
 "nbformat_minor": 4
}
